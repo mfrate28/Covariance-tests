{
 "cells": [
  {
   "cell_type": "markdown",
   "metadata": {
    "deletable": true,
    "editable": true
   },
   "source": [
    "The prediction made in the previous section take into account uncertainties due to the fact that a Gaussian process\n",
    "is stochastic but it doesn’t take into account any uncertainties in the values of the hyperparameters. \n",
    "This won’t matter if the hyperparameters are very well constrained by the data but in this case, \n",
    "many of the parameters are actually poorly constrained. To take this effect into account, \n",
    "we can apply prior probability functions to the hyperparameters and marginalize using Markov chain Monte Carlo (MCMC). "
   ]
  },
  {
   "cell_type": "code",
   "execution_count": 1,
   "metadata": {
    "collapsed": false,
    "deletable": true,
    "editable": true
   },
   "outputs": [
    {
     "name": "stdout",
     "output_type": "stream",
     "text": [
      "Populating the interactive namespace from numpy and matplotlib\n"
     ]
    }
   ],
   "source": [
    "%pylab inline --no-import-all\n",
    "import george\n",
    "from george.kernels import MyDijetKernelSimp\n",
    "\n",
    "\n",
    "import math\n",
    "import time\n",
    "import numpy as np\n",
    "import scipy.stats as ss\n",
    "import scipy.special as ssp\n",
    "import scipy.optimize as op\n",
    "from iminuit import Minuit\n",
    "\n",
    "#import ROOT as r\n",
    "#import warnings\n",
    "#from rootpy.plotting import Hist, Hist2D, Legend, Canvas\n",
    "#import rootpy.plotting.root2matplotlib as rplt"
   ]
  },
  {
   "cell_type": "code",
   "execution_count": 2,
   "metadata": {
    "collapsed": false,
    "deletable": true,
    "editable": true
   },
   "outputs": [],
   "source": [
    "xvalO = np.load(\"../GP_Paper/xvalO.npy\")\n",
    "yvalO = np.load(\"../GP_Paper/yvalO.npy\")\n",
    "xerrO = np.load(\"../GP_Paper/xerrO.npy\")\n",
    "xlowO = np.load(\"../GP_Paper/xlowO.npy\")\n",
    "xval = np.load(\"../GP_Paper/xval.npy\")\n",
    "yval = np.load(\"../GP_Paper/yval.npy\")\n",
    "xerr = np.load(\"../GP_Paper/xerr.npy\")\n",
    "smoothGPFit = np.load(\"../GP_Paper/initialGPfit.npy\")\n",
    "\n",
    "\n",
    "xvalO2D = xvalO.reshape(-1,1)\n",
    "yvalO2D = yvalO.reshape(-1,1)"
   ]
  },
  {
   "cell_type": "code",
   "execution_count": 3,
   "metadata": {
    "collapsed": true,
    "deletable": true,
    "editable": true
   },
   "outputs": [],
   "source": [
    "# function to display covariance matrices\n",
    "\n",
    "def plot_cov(X, C, K, stationary=True):\n",
    "    K = K #+ 1e-8*np.eye(X.shape[0])\n",
    "    x = X.flatten()\n",
    "    \n",
    "    fig = plt.figure(figsize=(14,5))\n",
    "    ax1 = fig.add_subplot(131)\n",
    "    m = ax1.imshow(C, cmap=\"inferno\",\n",
    "                   interpolation='none',\n",
    "                   extent=(np.min(X), np.max(X), np.max(X), np.min(X)));\n",
    "    plt.colorbar(m);\n",
    "    ax1.set_title(\"Correlation Matrix\")\n",
    "    ax1.set_xlabel(\"X\")\n",
    "    ax1.set_ylabel(\"X\")\n",
    "\n",
    "    ax2 = fig.add_subplot(132)\n",
    "    m = ax2.imshow(np.log(K), cmap=\"inferno\",\n",
    "                   interpolation='none',\n",
    "                   extent=(np.min(X), np.max(X), np.max(X), np.min(X)));\n",
    "    plt.colorbar(m);\n",
    "    ax2.set_title(\"Log(Covariance Matrix)\")\n",
    "    ax2.set_xlabel(\"X\")\n",
    "    ax2.set_ylabel(\"X\")\n",
    "    \n",
    "    ax3 = fig.add_subplot(133)\n",
    "    m = ax3.imshow(K, cmap=\"inferno\",\n",
    "                   interpolation='none',\n",
    "                   extent=(np.min(X), np.max(X), np.max(X), np.min(X)));\n",
    "    plt.colorbar(m);\n",
    "    ax3.set_title(\"Covariance Matrix\")\n",
    "    ax3.set_xlabel(\"X\")\n",
    "    ax3.set_ylabel(\"X\")\n",
    "    \n",
    "    fig = plt.figure(figsize=(13,5))\n",
    "    ax = fig.add_subplot(111)\n",
    "    if not stationary:\n",
    "        ax.plot(x, np.diag(K), \"k\", lw=2, alpha=0.8)\n",
    "        #ax2.plot(x, 2e6*np.exp(-(x/300)), c='g')\n",
    "        ax.set_title(\"The Diagonal of K\")\n",
    "        ax.set_ylabel(\"k(x,x)\")\n",
    "        ax.set_xscale('log')\n",
    "        ax.set_yscale('log')\n",
    "    else:\n",
    "        ax.plot(x, K[:,0], \"k\", lw=2, alpha=0.8)\n",
    "        ax.set_title(\"K as a function of x - x'\")\n",
    "        ax.set_ylabel(\"k(x,x')\")\n",
    "    ax.set_xlabel(\"X\")\n",
    "\n",
    "    '''\n",
    "    fig = plt.figure(figsize=(14,4))\n",
    "    ax = fig.add_subplot(111)\n",
    "    samples = np.random.multivariate_normal(modelMatrix[0], K, 5).T;\n",
    "    for i in range(samples.shape[1]):\n",
    "        ax.plot(x, samples[:,i], color=cmap.inferno(i*0.2), lw=2);\n",
    "    ax.set_title(\"Samples from GP Prior\")\n",
    "    ax.set_xscale('log')\n",
    "    ax.set_yscale('log')\n",
    "    ax.set_xlabel(\"X\")\n",
    "    '''\n"
   ]
  },
  {
   "cell_type": "code",
   "execution_count": 4,
   "metadata": {
    "collapsed": false,
    "deletable": true,
    "editable": true
   },
   "outputs": [],
   "source": [
    "\n",
    "#background only plots\n",
    "def makePrettyPlots(xs, ys, bkgs, title, col = 'g', ymax = 2e5):\n",
    "    f, (ax1, ax2) = plt.subplots(2, sharex=True, figsize=(12,12), gridspec_kw = {'height_ratios':[3, 1]})\n",
    "    f.suptitle(title, fontsize=30)\n",
    "    dataPlot = ax1.errorbar(xs, ys, marker='o', ls='None', yerr = np.sqrt(ys), c='black', markersize=10, label=\"data+signal\")\n",
    "    bkgPlot, =ax1.plot(xs, bkgs, color=col, linewidth=3.0, label=\"bkg only\")\n",
    "    ax1.legend()\n",
    "    ax1.set_ylabel('Events', fontsize=20)\n",
    "    ax1.tick_params(axis='y', labelsize=20)\n",
    "    ax1.set_yscale('log', nonposy=\"clip\")\n",
    "    ax1.set_xscale('log')\n",
    "    ax1.set_xlim([1000, 7500])\n",
    "    ax1.set_ylim([0.01, ymax])\n",
    "\n",
    "\n",
    "  \n",
    "    #bin by bin significance    \n",
    "    zvals, chi2 = calcSignificance(ys, bkgs)\n",
    "    print \"chi2\", chi2\n",
    "    h1 = Hist(xlowO,markersize=0)\n",
    "    for x in range(len(zvals)):\n",
    "        if zvals[x] == np.inf or zvals[x] == -np.inf: h1[x] = 20\n",
    "        else: h1[x] = zvals[x]  \n",
    "\n",
    "\n",
    "    \n",
    "    h1.fillstyle = 'solid'\n",
    "    if col == 'g':\n",
    "         h1.fillcolor = 'green'\n",
    "    elif col == 'b':\n",
    "         h1.fillcolor = 'blue'\n",
    "    elif col == 'r':\n",
    "         h1.fillcolor = 'red'\n",
    "    else:\n",
    "        h1.fillcolor = 'black'\n",
    "    h1.linecolor = 'black'\n",
    "    h1.linewidth = 1\n",
    "    h1.Draw(\"histX0\")\n",
    "    rplt.bar(h1, xerr=None, yerr=None)\n",
    "    ax2.axhline(0, color='black', lw=1)\n",
    "    ax2.tick_params(axis='x', labelsize=20)\n",
    "    ax2.tick_params(axis='y', labelsize=20)\n",
    "    ax2.set_xlabel(r\"$m_{jj}$ [TeV]\", fontsize=30)\n",
    "    ax2.set_ylabel('Significance', fontsize=20)\n",
    "    ax2.set_xscale('log')\n",
    "    ax2.set_xlim([1000, 7500])\n",
    "    ax2.set_xticks([1000, 2000, 3000, 4000, 5000, 6000, 7000])\n",
    "    ax2.get_xaxis().set_major_formatter(matplotlib.ticker.ScalarFormatter())\n",
    "    minor_ticks = np.arange(1000, 7500, 100)\n",
    "    ax2.set_xticks(minor_ticks, minor=True)  \n",
    "    labels = [\"1\",\"2\",\"3\",\"4\",\"5\",\"6\",\"7\"]\n",
    "    ax2.set_xticklabels(labels)\n",
    "    ax2.set_ylim([-5, 5])\n",
    "    \n",
    "    f.subplots_adjust(hspace=0)\n",
    "    plt.setp([a.get_xticklabels() for a in f.axes[:-1]], visible=False)    \n",
    "    plt.show()\n",
    "\n",
    "def calcSignificance(Data, Bkg):\n",
    "    pvals = []\n",
    "    zvals = []\n",
    "    chi2 = 0\n",
    "    for i, nD in enumerate(Data):\n",
    "        nB = Bkg[i]\n",
    "        if nD != 0:\n",
    "            if nB > nD:\n",
    "                #pval = 1.-r.TMath.Gamma(nD+1.,nB)\n",
    "                pval = 1.-ssp.gammainc(nD+1.,nB)\n",
    "            else:\n",
    "                #pval = pval = r.TMath.Gamma(nD,nB)\n",
    "                pval = ssp.gammainc(nD,nB)\n",
    "            prob = 1.-2.*pval\n",
    "            if prob > -1 and prob < 1:\n",
    "                #zval = math.sqrt(2.)*r.TMath.ErfInverse(prob)\n",
    "                zval = math.sqrt(2.)*ssp.erfinv(prob)\n",
    "            else:\n",
    "                zval = np.inf\n",
    "                #print \"crap\"\n",
    "            if zval > 100: zval = 20\n",
    "            if zval < 0: zval = 0\n",
    "            if (nD < nB): zval = -zval\n",
    "           # print nD, nB, pval, prob, zval\n",
    "        else: zval = 0\n",
    "            \n",
    "        zvals.append(zval)\n",
    "        chi2 += ((nD - nB) ** 2 / abs(nB)) #/len(nB)\n",
    "    return zvals, chi2"
   ]
  },
  {
   "cell_type": "code",
   "execution_count": 5,
   "metadata": {
    "collapsed": false,
    "deletable": true,
    "editable": true
   },
   "outputs": [],
   "source": [
    "\n",
    "def model_3param(t, params, xErr=xerr): \n",
    "    p0, p1, p2 = params\n",
    "    sqrts = 13000.\n",
    "    return (p0 * ((1.-t/sqrts)**p1) * (t/sqrts)**(p2))*(xErr)  \n",
    "\n",
    "def simpleLogPoisson(x, par):\n",
    "    if x < 0: \n",
    "        #print \"crap\"\n",
    "        return np.inf\n",
    "    elif (x == 0): return -1.*par\n",
    "    else:\n",
    "        #lnpoisson = x*np.log(par)-par-r.TMath.LnGamma(x+1.)\n",
    "        lnpoisson = x*np.log(par)-par-ssp.gammaln(x+1.)\n",
    "        return lnpoisson"
   ]
  },
  {
   "cell_type": "code",
   "execution_count": 6,
   "metadata": {
    "collapsed": true,
    "deletable": true,
    "editable": true
   },
   "outputs": [],
   "source": [
    "class logLike_3ff_minuit:\n",
    "    def __init__(self, x, y, xe):\n",
    "        self.x = x\n",
    "        self.y = y\n",
    "        self.xe = xe\n",
    "    def __call__(self, p0, p1, p2):\n",
    "        params = p0, p1, p2\n",
    "        bkgFunc = model_3param(self.x, params, self.xe)       \n",
    "        logL = 0\n",
    "        for ibin in range(len(self.y)):\n",
    "            data = self.y[ibin]\n",
    "            bkg = bkgFunc[ibin]\n",
    "            logL += -simpleLogPoisson(data, bkg)\n",
    "        try:\n",
    "            logL\n",
    "            return logL\n",
    "        except:\n",
    "            return np.inf\n",
    "def fit_3ff_minuit(num,lnprob):\n",
    "  #  np.random.seed(1234)\n",
    "    bestval = np.inf\n",
    "    bestargs = (0., 0., 0.)\n",
    "    for i in range(num):\n",
    "        init0 = np.random.random() * 1.\n",
    "        init1 = np.random.random() * 8.\n",
    "        init2 = np.random.random() * 6.\n",
    "        m = Minuit(lnprob, throw_nan = False, pedantic = False, print_level = 0,\n",
    "                  p0 = init0, p1 = init1, p2 = init2,\n",
    "                  error_p0 = 1e-2, error_p1 = 1e-1, error_p2 = 1e-1, \n",
    "                  limit_p0 = (0, 100.), limit_p1 = (-100., 100.), limit_p2 = (-100., 100.))\n",
    "        m.migrad()\n",
    "        if m.fval < bestval:\n",
    "            bestval = m.fval\n",
    "            bestargs = m.args \n",
    "    # if Print:\n",
    "    #     print \"min LL\",bestval\n",
    "    #     print \"best fit vals\", bestargs\n",
    "    return bestval, bestargs"
   ]
  },
  {
   "cell_type": "markdown",
   "metadata": {
    "deletable": true,
    "editable": true
   },
   "source": [
    "### 3 parameter covariance matrix"
   ]
  },
  {
   "cell_type": "markdown",
   "metadata": {
    "deletable": true,
    "editable": true
   },
   "source": [
    "### swift"
   ]
  },
  {
   "cell_type": "code",
   "execution_count": null,
   "metadata": {
    "collapsed": false,
    "deletable": true,
    "editable": true
   },
   "outputs": [
    {
     "name": "stdout",
     "output_type": "stream",
     "text": [
      "0\n",
      "under\n",
      "1116.5 0 30\n",
      "1\n",
      "under\n",
      "1149.5 0 31\n",
      "2\n",
      "under\n",
      "1183.0 0 32\n",
      "3\n",
      "under\n",
      "1217.0 0 33\n",
      "4\n",
      "under\n",
      "1251.5 0 34\n",
      "5\n",
      "under\n",
      "1287.0 0 35\n",
      "6\n",
      "under\n",
      "1323.0 0 36\n",
      "7\n",
      "under\n",
      "1359.5 0 37\n",
      "8\n",
      "under\n",
      "1397.0 0 38\n",
      "9\n",
      "under\n",
      "1435.0 0 39\n",
      "10\n",
      "1473.5 0 40\n",
      "11\n",
      "1513.0 1 41\n",
      "12\n",
      "1553.0 2 42\n",
      "13\n",
      "1593.5 3 43\n",
      "14\n",
      "1635.0 4 44\n",
      "15\n",
      "1677.0 5 45\n",
      "16\n",
      "1719.5 6 46\n",
      "17\n",
      "1763.0 7 47\n",
      "18\n",
      "1807.5 8 48\n",
      "19\n",
      "1852.5 9 49\n",
      "20\n",
      "1898.0 10 50\n",
      "21\n",
      "1944.5 11 51\n",
      "22\n",
      "1992.0 12 52\n",
      "23\n",
      "2040.5 13 53\n",
      "24\n",
      "2089.5 14 54\n",
      "25\n",
      "2139.0 15 55\n",
      "26\n",
      "2189.5 16 56\n",
      "27\n",
      "2241.0 17 57\n",
      "28\n",
      "2293.5 18 58\n",
      "29\n",
      "2347.0 19 59\n",
      "30\n",
      "2401.5 20 60\n",
      "31\n",
      "2457.0 21 61\n",
      "32\n",
      "2513.5 22 62\n",
      "33\n",
      "2571.0 23 63\n",
      "34\n",
      "2629.5 24 64\n",
      "35\n",
      "2689.0 25 65\n",
      "36\n",
      "2749.5 26 66\n",
      "37\n",
      "2811.0 27 67\n",
      "38\n",
      "2873.5 28 68\n",
      "39\n",
      "2937.0 29 69\n",
      "40\n",
      "3001.5 30 70\n",
      "41\n",
      "3067.0 31 71\n",
      "42\n",
      "3133.5 32 72\n",
      "43\n",
      "3201.0 33 73\n",
      "44\n",
      "3270.0 34 74\n",
      "45\n",
      "3340.5 35 75\n",
      "46\n",
      "3412.0 36 76\n",
      "47\n",
      "3484.5 37 77\n",
      "48\n",
      "3558.5 38 78\n",
      "49\n",
      "3634.0 39 79\n",
      "50\n",
      "3710.5 40 80\n",
      "51\n",
      "3788.0 41 81\n",
      "52\n",
      "3867.0 42 82\n",
      "53\n",
      "3947.5 43 83\n",
      "54\n",
      "4029.0 44 84\n",
      "55\n",
      "4112.0 45 85\n",
      "56\n",
      "4196.5 46 86\n",
      "57\n",
      "4282.5 47 87\n",
      "58\n",
      "4370.0 48 88\n",
      "59\n",
      "4459.0 49 89\n",
      "60\n",
      "4549.5 50 90\n",
      "61\n",
      "4641.5 51 91\n",
      "62\n",
      "4735.0 52 92\n",
      "63\n",
      "4830.0 53 93\n",
      "64\n",
      "4926.5 54 94\n",
      "65\n",
      "5024.5 55 95\n",
      "66\n",
      "5124.5 56 96\n",
      "67\n",
      "5226.0 57 97\n",
      "68\n",
      "5329.0 58 98\n",
      "69\n",
      "5434.0 59 99\n",
      "70\n",
      "5541.0 60 100\n",
      "71\n",
      "5650.0 61 101\n",
      "72\n",
      "5761.0 62 102\n",
      "73\n",
      "5874.0 63 103\n",
      "74\n",
      "over\n",
      "5989.0 64 83\n",
      "75\n",
      "over\n",
      "6106.0 65 83\n",
      "76\n",
      "over\n",
      "6225.0 66 83\n",
      "77\n",
      "over\n",
      "6346.0 67 83\n",
      "78\n",
      "over\n",
      "6469.0 68 83\n",
      "79\n",
      "over\n",
      "6594.5 69 83\n",
      "80\n",
      "over\n",
      "6722.5 70 83\n",
      "81\n",
      "over\n",
      "6852.5 71 83\n",
      "82\n",
      "over\n",
      "6985.0 72 83\n"
     ]
    }
   ],
   "source": [
    "'''\n",
    "def logLike_ind_swift(p, yvals, xvals, xerrs):\n",
    "    if p[0] < 0 or np.any(-20 > p[1:]) or np.any(p > 20):\n",
    "        return -np.inf\n",
    "    bkgFunc = model_3param(xvals, p, xerrs)\n",
    "    return -0.5 * np.sum( (bkgFunc-yvals)*(bkgFunc-yvals) / bkgFunc)\n",
    "'''\n",
    "\n",
    "\n",
    "\n",
    "modelMatrix0=np.zeros([xvalO.size, xvalO.size])\n",
    "\n",
    "for wi, w in enumerate(xvalO):\n",
    "    print wi\n",
    "    if wi < 10: \n",
    "        print \"under\"\n",
    "        wmin = 0\n",
    "    else: wmin = wi-10\n",
    "    if wi > xvalO.size-10: \n",
    "        print \"over\"\n",
    "        wmax = xvalO.size\n",
    "    else: wmax = wi+30\n",
    "    print w, wmin, wmax\n",
    "    xvals = xvalO[wmin:wmax]\n",
    "    xerrs = xerrO[wmin:wmax]\n",
    "    yvals = yvalO[wmin:wmax]\n",
    "\n",
    "    lnProb = logLike_3ff_minuit(xvals,yvals,xerrs)\n",
    "    bestval, best_fit_new = fit_3ff_minuit(100, lnProb)\n",
    "\n",
    "    modelMatrix0[wi,wmin:wmax] = model_3param(xvals,best_fit_new,xerrs)\n",
    "\n",
    "\n",
    "        \n",
    "covMat0 = np.cov(modelMatrix0.T)\n",
    "corMat0 = np.corrcoef(modelMatrix0.T)\n",
    "\n",
    "\n"
   ]
  },
  {
   "cell_type": "code",
   "execution_count": null,
   "metadata": {
    "collapsed": false,
    "deletable": true,
    "editable": true
   },
   "outputs": [
    {
     "data": {
      "text/plain": [
       "<matplotlib.colorbar.Colorbar at 0x112358290>"
      ]
     },
     "execution_count": 8,
     "metadata": {},
     "output_type": "execute_result"
    }
   ],
   "source": [
    "#plot_cov(np.arange(0,len(xvalO),1).reshape(-1,1), corMat0, covMat0, False)\n",
    "#makePrettyPlots_bkgFits(xvalO, xvalO, yvalO, (modelMatrix0).tolist(), \"\", ymax = 2e5)\n",
    "plt.figure()\n",
    "m = plt.imshow(covMat0[50:][50:], cmap=\"inferno\",\n",
    "                   interpolation='none',\n",
    "                   extent=(1, 10, 10, 1))\n",
    "plt.colorbar(m)"
   ]
  },
  {
   "cell_type": "markdown",
   "metadata": {
    "deletable": true,
    "editable": true
   },
   "source": [
    "### smearing width\n",
    "nx = np.append(xvalO_low, xvalO)\n",
    "nxe = np.append(xerrO_low, xerrO)\n",
    "nxl = np.append(xlowO_low, xlowO)"
   ]
  },
  {
   "cell_type": "code",
   "execution_count": null,
   "metadata": {
    "collapsed": false,
    "deletable": true,
    "editable": true
   },
   "outputs": [],
   "source": [
    "####run for many shifts and widths of guassian\n",
    "zs=np.arange(nxl[0], nxl[-1], 1)\n",
    "steps = 10.*np.random.randn(50)+100.\n",
    "xs=nx\n",
    "modelMatrixi=np.zeros([len(steps), xs.size])\n",
    "for bi, b in enumerate(steps):\n",
    "    print bi, b\n",
    "    newycounts=np.zeros(len(xs))\n",
    "    for xi, x in enumerate(xs):\n",
    "        for zi, z in enumerate(zs):\n",
    "            zer= 1.\n",
    "            pz=model_3param(z,smoothPs,zer)\n",
    "            gaus = ss.norm.pdf(x, z, b)\n",
    "            newycounts[xi]+=pz*gaus*nxe[xi] \n",
    "    modelMatrixi[bi,:]= newycounts\n",
    "    #print modelMatrix\n",
    "\n"
   ]
  },
  {
   "cell_type": "code",
   "execution_count": null,
   "metadata": {
    "collapsed": false,
    "deletable": true,
    "editable": true
   },
   "outputs": [],
   "source": [
    "print modelMatrixi[:,11:]\n",
    "h2=modelMatrixi[:,11:].T\n",
    "covMati = np.cov(h2)\n",
    "corMati = np.corrcoef(h2)\n",
    "\n",
    "plot_cov(nx[11:].reshape(-1,1), corMati, covMati, False)"
   ]
  },
  {
   "cell_type": "code",
   "execution_count": null,
   "metadata": {
    "collapsed": false,
    "deletable": true,
    "editable": true
   },
   "outputs": [],
   "source": [
    "makePrettyPlots_bkgFits(nx, xvalO, yvalO, (modelMatrix).tolist(), \"\", ymax = 2e5)"
   ]
  },
  {
   "cell_type": "markdown",
   "metadata": {
    "deletable": true,
    "editable": true
   },
   "source": [
    "### smearing width uniform binning"
   ]
  },
  {
   "cell_type": "code",
   "execution_count": null,
   "metadata": {
    "collapsed": false,
    "deletable": true,
    "editable": true
   },
   "outputs": [],
   "source": [
    "zs=np.arange(nxl[0], nxl[-1], 1)\n",
    "#zs=np.arange(xlowO[0], xlowO[-1], 1)\n",
    "steps = 10.*np.random.randn(50)+100.\n",
    "xs = np.arange(xlowO[0], xlowO[-1],10)\n",
    "#xs=xvalO\n",
    "#xs=nx\n",
    "modelMatrix5=np.zeros([len(steps), xs.size])\n",
    "for bi, b in enumerate(steps):\n",
    "    print bi, b\n",
    "    newycounts=np.zeros(len(xs))\n",
    "    for xi, x in enumerate(xs):\n",
    "        for zi, z in enumerate(zs):\n",
    "            zer= 1.\n",
    "            pz=model_3param(z,smoothPs,zer)\n",
    "            gaus = ss.norm.pdf(x, z, b)\n",
    "            newycounts[xi]+=pz*gaus*10.\n",
    "    modelMatrix5[bi,:]= newycounts \n",
    "\n",
    "covMat5 = np.cov(modelMatrix5[:,11:])\n",
    "corMat5 = np.corrcoef(modelMatrix5[:,11:])\n",
    "\n",
    "plot_cov(nx[11:].reshape(-1,1), corMat5, covMat5, False)"
   ]
  },
  {
   "cell_type": "markdown",
   "metadata": {
    "deletable": true,
    "editable": true
   },
   "source": [
    "### smearing mean"
   ]
  },
  {
   "cell_type": "code",
   "execution_count": null,
   "metadata": {
    "collapsed": false,
    "deletable": true,
    "editable": true
   },
   "outputs": [],
   "source": [
    "nx = np.append(xvalO_low, xvalO)\n",
    "nxe = np.append(xerrO_low, xerrO)\n",
    "nxl = np.append(xlowO_low, xlowO)\n",
    "\n",
    "zs=np.arange(nxl[0], nxl[-1], 1)\n",
    "#zs=np.arange(xlowO[0], xlowO[-1], 1)\n",
    "steps = 10.*np.random.randn(50)\n",
    "#xs = np.arange(xlowO[0], xlowO[-1],10)\n",
    "#xs=xvalO\n",
    "xs=nx\n",
    "modelMatrix3=np.zeros([len(steps), xs.size])\n",
    "for bi, b in enumerate(steps):\n",
    "    print bi, b\n",
    "    newycounts=np.zeros(len(xs))\n",
    "    for xi, x in enumerate(xs):\n",
    "        for zi, z in enumerate(zs):\n",
    "            zer= 1.\n",
    "            pz=model_3param(z,smoothPs,zer)\n",
    "            gaus = ss.norm.pdf(x, z+b, 100.)\n",
    "            newycounts[xi]+=pz*gaus*nxe[xi] #xerrO[xi] #10.\n",
    "    modelMatrix3[bi,:]= newycounts  "
   ]
  },
  {
   "cell_type": "code",
   "execution_count": null,
   "metadata": {
    "collapsed": false,
    "deletable": true,
    "editable": true
   },
   "outputs": [],
   "source": [
    "covMat3 = np.cov(modelMatrix3[:,11:].T)\n",
    "corMat3 = np.corrcoef(modelMatrix3[:,11:].T)\n",
    "plot_cov(nx[11:].reshape(-1,1), corMat3, covMat3, False)\n",
    "makePrettyPlots_bkgFits(nx, xvalO, yvalO, (modelMatrix3).tolist(), \"\", ymax = 2e5)"
   ]
  },
  {
   "cell_type": "markdown",
   "metadata": {
    "deletable": true,
    "editable": true
   },
   "source": [
    "### other smearing mean larger"
   ]
  },
  {
   "cell_type": "code",
   "execution_count": null,
   "metadata": {
    "collapsed": true,
    "deletable": true,
    "editable": true
   },
   "outputs": [],
   "source": [
    "zs=np.arange(nxl[0], nxl[-1], 1)\n",
    "steps = 100.*np.random.randn(50)\n",
    "xs=nx\n",
    "modelMatrix4=np.zeros([len(steps), xs.size])\n",
    "for bi, b in enumerate(steps):\n",
    "    print bi, b\n",
    "    newycounts=np.zeros(len(xs))\n",
    "    for xi, x in enumerate(xs):\n",
    "        for zi, z in enumerate(zs):\n",
    "            zer= 1.\n",
    "            pz=model_3param(z,smoothPs,zer)\n",
    "            gaus = ss.norm.pdf(x, z+b, 100.)\n",
    "            newycounts[xi]+=pz*gaus*nxe[xi] \n",
    "    modelMatrix4[bi,:]= newycounts \n",
    "covMat4 = np.cov(modelMatrix4[:,11:-1].T)\n",
    "corMat4 = np.corrcoef(modelMatrix4[:,11:-1].T)\n",
    "plot_cov(nx[11:-1].reshape(-1,1), corMat4, covMat4, False)"
   ]
  },
  {
   "cell_type": "code",
   "execution_count": null,
   "metadata": {
    "collapsed": false,
    "deletable": true,
    "editable": true
   },
   "outputs": [],
   "source": [
    "\n",
    "mm = np.append(modelMatrix[:,11:], modelMatrix3[:,11:], axis=0)\n",
    "covMatComb = np.cov(mm.T)\n",
    "corMatComb = np.corrcoef(mm.T)\n",
    "plot_cov(nx[11:].reshape(-1,1), corMatComb, covMatComb, False)\n",
    "makePrettyPlots_bkgFits(nx[11:], xvalO, yvalO, (mm).tolist(), \"\", ymax = 2e5)"
   ]
  },
  {
   "cell_type": "markdown",
   "metadata": {
    "deletable": true,
    "editable": true
   },
   "source": [
    "### PDF"
   ]
  },
  {
   "cell_type": "code",
   "execution_count": null,
   "metadata": {
    "collapsed": false,
    "deletable": true,
    "editable": true
   },
   "outputs": [],
   "source": [
    "covMat = open(\"../Downloads/covariancePDF\", \"r\")\n",
    "bins = open(\"../Downloads/bins\", \"r\")\n",
    "binlines = bins.readlines()\n",
    "newbins=[]\n",
    "for ib, bl in enumerate(binlines):\n",
    "    nwl=bl.split(\" \")\n",
    "    newbins.append(float(nwl[1]))\n",
    "    #newbins.append(float(nwl[2]))\n",
    "newbins.sort()    \n",
    "print newbins\n",
    "covMatPDF= np.zeros((len(newbins),len(newbins)))\n",
    "corMatPDF= np.zeros((len(newbins),len(newbins)))\n",
    "lines = covMat.readlines()\n",
    "for il, line in enumerate(lines):\n",
    "    line = [float(l) for l in line.split(\" \")]\n",
    "    #print line\n",
    "    covMatPDF[il,:]=line\n",
    "\n",
    "for i in range(len(newbins)):\n",
    "    for j in range(len(newbins)):\n",
    "        corMatPDF[i][j]=covMatPDF[i][j]/np.sqrt(covMatPDF[i][i]*covMatPDF[j][j])\n",
    "\n"
   ]
  },
  {
   "cell_type": "code",
   "execution_count": null,
   "metadata": {
    "collapsed": false,
    "deletable": true,
    "editable": true
   },
   "outputs": [],
   "source": [
    "plot_cov(np.array(newbins).reshape(-1,1), corMatPDF, covMatPDF, False)"
   ]
  },
  {
   "cell_type": "code",
   "execution_count": null,
   "metadata": {
    "collapsed": false,
    "deletable": true,
    "editable": true
   },
   "outputs": [],
   "source": [
    "plt.plot(xvalO,corMat3[5,:], label=\"JES\",c='b')\n",
    "plt.plot(xvalO,corMati[5,:], label=\"resolution\", c='g')\n",
    "plt.plot(newbins,corMatPDF[5,:], label=\"PDF\", c= 'r')\n",
    "\n",
    "plt.figure()\n",
    "plt.plot(xvalO,corMat3[40,:],label=\"JES\",c='b')\n",
    "plt.plot(xvalO,corMati[40,:], label=\"resolution\", c='g')\n",
    "plt.plot(newbins,corMatPDF[10,:],label=\"PDF\", c= 'r')\n",
    "\n",
    "plt.figure()\n",
    "plt.plot(xvalO,corMat3[75,:],label=\"JES\",c='b')\n",
    "plt.plot(xvalO,corMati[75,:], label=\"resolution\", c='g')\n",
    "plt.plot(newbins,corMatPDF[20,:], label=\"PDF\", c= 'r')\n",
    "\n",
    "plt.figure()\n",
    "plt.plot(xvalO,covMat3[5,:],label=\"JES\",c='b')\n",
    "plt.plot(xvalO,covMati[5,:], label=\"resolution\", c='g')\n",
    "plt.plot(newbins,covMatPDF[5,:], label=\"PDF\", c= 'r')\n",
    "plt.yscale('log')\n",
    "\n",
    "plt.figure()\n",
    "plt.plot(xvalO,covMat3[40,:],label=\"JES\",c='b')\n",
    "plt.plot(xvalO,covMati[40,:], label=\"resolution\", c='g')\n",
    "plt.plot(newbins,covMatPDF[10,:], label=\"PDF\", c= 'r')\n",
    "plt.yscale('log')\n",
    "plt.figure()\n",
    "plt.plot(xvalO,covMat3[75,:],label=\"JES\",c='b')\n",
    "plt.plot(xvalO,covMati[75,:], label=\"resolution\", c='g')\n",
    "plt.plot(newbins,covMatPDF[20,:], label=\"PDF\", c= 'r')\n",
    "plt.yscale('log')\n",
    "#for i in range(len(corMat[1])):\n",
    "#    plt.plot(np.arange(len(corMat[1])),(corMat[i,:]))"
   ]
  },
  {
   "cell_type": "code",
   "execution_count": null,
   "metadata": {
    "collapsed": true,
    "deletable": true,
    "editable": true
   },
   "outputs": [],
   "source": []
  }
 ],
 "metadata": {
  "anaconda-cloud": {},
  "kernelspec": {
   "display_name": "Python 2",
   "language": "python",
   "name": "python2"
  },
  "language_info": {
   "codemirror_mode": {
    "name": "ipython",
    "version": 2
   },
   "file_extension": ".py",
   "mimetype": "text/x-python",
   "name": "python",
   "nbconvert_exporter": "python",
   "pygments_lexer": "ipython2",
   "version": "2.7.13"
  }
 },
 "nbformat": 4,
 "nbformat_minor": 0
}
