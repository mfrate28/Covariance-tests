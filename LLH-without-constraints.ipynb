{
 "cells": [
  {
   "cell_type": "code",
   "execution_count": 1,
   "metadata": {
    "collapsed": false,
    "deletable": true,
    "editable": true
   },
   "outputs": [
    {
     "name": "stdout",
     "output_type": "stream",
     "text": [
      "Populating the interactive namespace from numpy and matplotlib\n"
     ]
    }
   ],
   "source": [
    "%pylab inline --no-import-all\n",
    "import george\n",
    "from george.kernels import MyDijetKernelSimp\n",
    "\n",
    "\n",
    "import math\n",
    "import time\n",
    "import numpy as np\n",
    "import scipy.stats as ss\n",
    "import scipy.special as ssp\n",
    "import scipy.optimize as op\n",
    "from iminuit import Minuit\n",
    "\n",
    "#import ROOT as r\n",
    "#import warnings\n",
    "#from rootpy.plotting import Hist, Hist2D, Legend, Canvas\n",
    "#import rootpy.plotting.root2matplotlib as rplt"
   ]
  },
  {
   "cell_type": "code",
   "execution_count": 2,
   "metadata": {
    "collapsed": false,
    "deletable": true,
    "editable": true
   },
   "outputs": [],
   "source": [
    "xvalO = np.load(\"../GP_Paper/xvalO.npy\")\n",
    "yvalO = np.load(\"../GP_Paper/yvalO.npy\")\n",
    "xerrO = np.load(\"../GP_Paper/xerrO.npy\")\n",
    "xlowO = np.load(\"../GP_Paper/xlowO.npy\")\n",
    "xval = np.load(\"../GP_Paper/xval.npy\")\n",
    "yval = np.load(\"../GP_Paper/yval.npy\")\n",
    "xerr = np.load(\"../GP_Paper/xerr.npy\")\n",
    "smoothGPFit = np.load(\"../GP_Paper/initialGPfit.npy\")\n",
    "\n",
    "\n",
    "xvalO2D = xvalO.reshape(-1,1)\n",
    "yvalO2D = yvalO.reshape(-1,1)"
   ]
  },
  {
   "cell_type": "markdown",
   "metadata": {
    "collapsed": true,
    "deletable": true,
    "editable": true
   },
   "source": [
    "### LLH Ratio with and without constraint terms"
   ]
  },
  {
   "cell_type": "code",
   "execution_count": 3,
   "metadata": {
    "collapsed": true,
    "deletable": true,
    "editable": true
   },
   "outputs": [],
   "source": [
    "def LLR_P(mean, data):\n",
    "    return data*np.log(mean/data)-mean+data"
   ]
  },
  {
   "cell_type": "code",
   "execution_count": 4,
   "metadata": {
    "collapsed": false,
    "deletable": true,
    "editable": true
   },
   "outputs": [
    {
     "data": {
      "text/plain": [
       "([<matplotlib.axis.XTick at 0x11391f910>,\n",
       "  <matplotlib.axis.XTick at 0x11391f650>],\n",
       " <a list of 2 Text xticklabel objects>)"
      ]
     },
     "execution_count": 4,
     "metadata": {},
     "output_type": "execute_result"
    },
    {
     "data": {
      "image/png": "[encoded data removed]",
      "text/plain": [
       "<matplotlib.figure.Figure at 0x1138de250>"
      ]
     },
     "metadata": {},
     "output_type": "display_data"
    }
   ],
   "source": [
    "mu1 = 15.\n",
    "mu2 = 26.\n",
    "plt.bar([1,2], [mu1, mu2], align='center', alpha=0.5)\n",
    "plt.xticks([1,2], [\"bin1\", \"bin2\"])"
   ]
  },
  {
   "cell_type": "code",
   "execution_count": 5,
   "metadata": {
    "collapsed": false,
    "deletable": true,
    "editable": true
   },
   "outputs": [],
   "source": [
    "y1 = np.random.poisson(mu1, 10000)\n",
    "y2 = np.random.poisson(mu2, 10000)"
   ]
  },
  {
   "cell_type": "code",
   "execution_count": 6,
   "metadata": {
    "collapsed": false,
    "deletable": true,
    "editable": true
   },
   "outputs": [],
   "source": [
    "ll=[]\n",
    "ll_const=[]\n",
    "for i in range(10000):\n",
    "    ll.append(-2*(LLR_P(mu1, y1[i])+LLR_P(mu2, y2[i])))\n",
    "    ll_const.append(-2.*(LLR_P(mu1, y1[i])+LLR_P(mu2, y2[i])-0.5*(y1[i]-mu1)**2/4. - 0.5*(y2[i]-mu2)**2/4.))\n",
    "\n"
   ]
  },
  {
   "cell_type": "code",
   "execution_count": 7,
   "metadata": {
    "collapsed": false,
    "deletable": true,
    "editable": true
   },
   "outputs": [
    {
     "data": {
      "text/plain": [
       "[<matplotlib.lines.Line2D at 0x115f13b50>]"
      ]
     },
     "execution_count": 7,
     "metadata": {},
     "output_type": "execute_result"
    },
    {
     "data": {
      "image/png": "[encoded data removed]",
      "text/plain": [
       "<matplotlib.figure.Figure at 0x115de7190>"
      ]
     },
     "metadata": {},
     "output_type": "display_data"
    }
   ],
   "source": [
    "plt.figure()\n",
    "ncounts, bins, patches = plt.hist(ll,100)\n",
    "chiPDF=ss.chi2.pdf(np.linspace(min(ll),max(ll),50) , 2)\n",
    "plt.plot(np.linspace(min(ll),max(ll),50), max(ncounts)*2.*chiPDF, c='r')"
   ]
  },
  {
   "cell_type": "code",
   "execution_count": 8,
   "metadata": {
    "collapsed": false,
    "deletable": true,
    "editable": true
   },
   "outputs": [
    {
     "data": {
      "text/plain": [
       "[<matplotlib.lines.Line2D at 0x1162fedd0>]"
      ]
     },
     "execution_count": 8,
     "metadata": {},
     "output_type": "execute_result"
    },
    {
     "data": {
      "image/png": "[encoded data removed]",
      "text/plain": [
       "<matplotlib.figure.Figure at 0x1162097d0>"
      ]
     },
     "metadata": {},
     "output_type": "display_data"
    }
   ],
   "source": [
    "plt.figure()\n",
    "ncounts, bins, patches = plt.hist(ll_const,100)\n",
    "chiPDF=ss.chi2.pdf(np.linspace(min(ll_const),max(ll_const),50) , 2)\n",
    "plt.plot(np.linspace(min(ll_const),max(ll_const),50), max(ncounts)*2.*chiPDF, c='r')"
   ]
  },
  {
   "cell_type": "code",
   "execution_count": null,
   "metadata": {
    "collapsed": true
   },
   "outputs": [],
   "source": []
  }
 ],
 "metadata": {
  "anaconda-cloud": {},
  "kernelspec": {
   "display_name": "Python 2",
   "language": "python",
   "name": "python2"
  },
  "language_info": {
   "codemirror_mode": {
    "name": "ipython",
    "version": 2
   },
   "file_extension": ".py",
   "mimetype": "text/x-python",
   "name": "python",
   "nbconvert_exporter": "python",
   "pygments_lexer": "ipython2",
   "version": "2.7.13"
  }
 },
 "nbformat": 4,
 "nbformat_minor": 0
}
